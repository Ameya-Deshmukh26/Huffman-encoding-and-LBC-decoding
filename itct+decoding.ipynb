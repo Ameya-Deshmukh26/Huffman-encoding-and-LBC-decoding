{
 "cells": [
  {
   "cell_type": "markdown",
   "metadata": {},
   "source": [
    "Plot is the text file we,re using and the huffman encoding is as below\n",
    "|\n",
    "|\n",
    "|\n",
    "v"
   ]
  },
  {
   "cell_type": "code",
   "execution_count": 1,
   "metadata": {},
   "outputs": [
    {
     "name": "stdout",
     "output_type": "stream",
     "text": [
      " Char | Huffman code \n",
      "----------------------\n",
      " 'e'  |          101\n",
      " 't'  |          010\n",
      " 'c'  |          001\n",
      " 'i'  |         1111\n",
      " 'a'  |         1101\n",
      " 'n'  |         1001\n",
      " 'l'  |         1000\n",
      " 'r'  |         0110\n",
      " 's'  |         0000\n",
      " 'u'  |        11101\n",
      " 'o'  |        11100\n",
      " 'm'  |        11000\n",
      " 'd'  |        01111\n",
      " 'p'  |        01110\n",
      " 'h'  |        00010\n",
      " 'b'  |       110011\n",
      " 'A'  |       000110\n",
      " 'v'  |      0001111\n",
      " 'x'  |      0001110\n",
      " 'y'  |      1100101\n",
      " 'g'  |      1100100\n",
      "Original file: 111 bytes\n",
      "Compressed file: 48 bytes\n",
      "Compressed file to about 57.0% of original\n",
      "000110100110110001010010100110111100111000110101000100010111100001101011111010001111111100110101000010110101011101000010100001101100110100011100101010110100111011000100011001011101011100111010001111101011111011000101001010011011110010011110101100110101100101001011100111111001001001111101010111010011110011000110011111010000010111111001110001010011110011000011101110011101100101111\n"
     ]
    }
   ],
   "source": [
    "import os\n",
    "\n",
    "# Reading text file \n",
    "string = open('plot.txt', 'r')\n",
    "string = string.read()\n",
    "string_f = string.split()\n",
    "# Creating tree nodes\n",
    "class NodeTree(object):\n",
    "\n",
    "    def __init__(self, left=None, right=None):\n",
    "        self.left = left\n",
    "        self.right = right\n",
    "\n",
    "    def children(self):\n",
    "        return (self.left, self.right)\n",
    "\n",
    "    def nodes(self):\n",
    "        return (self.left, self.right)\n",
    "\n",
    "    def __str__(self):\n",
    "        return '%s_%s' % (self.left, self.right)\n",
    "\n",
    "# Main function implementing huffman coding\n",
    "def huffman_code_tree(node, left=True, binString=''):\n",
    "    if type(node) is str:\n",
    "        return {node: binString}\n",
    "    (l, r) = node.children()\n",
    "    d = dict()\n",
    "    d.update(huffman_code_tree(l, True, binString + '0'))\n",
    "    d.update(huffman_code_tree(r, False, binString + '1'))\n",
    "    return d\n",
    "\n",
    "# Calculating frequency of each character to create a max heap tree\n",
    "freq = {}\n",
    "for c in string_f:\n",
    "    for i in c:\n",
    "        freq[i] = freq.get(i, 0) + 1\n",
    "\n",
    "freq = sorted(freq.items(), key=lambda x: x[1], reverse=True)\n",
    "\n",
    "nodes = freq\n",
    "\n",
    "while len(nodes) > 1:\n",
    "    (key1, c1) = nodes[-1]\n",
    "    (key2, c2) = nodes[-2]\n",
    "    nodes = nodes[:-2]\n",
    "    node = NodeTree(key1, key2)\n",
    "    nodes.append((node, c1 + c2))\n",
    "\n",
    "    nodes = sorted(nodes, key=lambda x: x[1], reverse=True)\n",
    "\n",
    "huffmanCode = huffman_code_tree(nodes[0][0])\n",
    "\n",
    "# Function to convert huffman codes generated from string to a binary file  \n",
    "def _to_Bytes(data):\n",
    "    b = bytearray()\n",
    "    for i in range(0, len(data), 8):\n",
    "        b.append(int(data[i:i+8], 2))\n",
    "    return bytes(b)\n",
    "\n",
    "result = ''\n",
    "\n",
    "for i in string:\n",
    "    for (j, k) in huffmanCode.items():\n",
    "            if j==i:\n",
    "                result+= str(k)\n",
    "\n",
    "with open('test.bin', 'wb') as f:\n",
    "  f.write(_to_Bytes(result))\n",
    "\n",
    "_o = os.path.getsize('plot.txt')\n",
    "_c = os.path.getsize('test.bin')\n",
    "\n",
    "print(' Char | Huffman code ')\n",
    "print('----------------------')\n",
    "for (char, frequency) in freq:\n",
    "    print(' %-4r | %12s' % (char, huffmanCode[char]))\n",
    "\n",
    "print(f'Original file: {_o} bytes')\n",
    "print(f'Compressed file: {_c} bytes')\n",
    "print('Compressed file to about {}% of original'.format(round((((_o-_c)/_o)*100), 0)))\n",
    "print(result)"
   ]
  },
  {
   "cell_type": "code",
   "execution_count": 2,
   "metadata": {},
   "outputs": [
    {
     "name": "stdout",
     "output_type": "stream",
     "text": [
      "000110100110110001010010100110111100111000110101000100010111100001101011111010001111111100110101000010110101011101000010100001101100110100011100101010110100111011000100011001011101011100111010001111101011111011000101001010011011110010011110101100110101100101001011100111111001001001111101010111010011110011000110011111010000010111111001110001010011110011000011101110011101100101111\n"
     ]
    }
   ],
   "source": [
    "print(result)"
   ]
  },
  {
   "cell_type": "markdown",
   "metadata": {},
   "source": [
    " For applying (6,3) LBC we,ve grouped the encoded message into packets of three \n",
    " |\n",
    " |\n",
    " |\n",
    " v"
   ]
  },
  {
   "cell_type": "code",
   "execution_count": 2,
   "metadata": {},
   "outputs": [
    {
     "name": "stdout",
     "output_type": "stream",
     "text": [
      "['000', '110', '100', '110', '110', '001', '010', '010', '100', '110', '111', '100', '111', '000', '110', '101', '000', '100', '010', '111', '100', '001', '101', '011', '111', '010', '001', '111', '111', '100', '110', '101', '000', '010', '110', '101', '011', '101', '000', '010', '100', '001', '101', '100', '110', '100', '011', '100', '101', '010', '110', '100', '111', '011', '000', '100', '011', '001', '011', '101', '011', '100', '111', '010', '001', '111', '101', '011', '111', '011', '000', '101', '001', '010', '011', '011', '110', '010', '011', '110', '101', '100', '110', '101', '100', '101', '001', '011', '100', '111', '111', '001', '001', '001', '111', '101', '010', '111', '010', '011', '110', '011', '000', '110', '011', '111', '010', '000', '010', '111', '111', '001', '110', '001', '010', '011', '110', '011', '000', '011', '101', '110', '011', '101', '100', '101', '111']\n"
     ]
    }
   ],
   "source": [
    "import numpy as np\n",
    "in_put=[result[i:i+3] for i in range(0, len(result), 3)]\n",
    "arr2=np.matrix([[1,0,1],[1,1,1],[0,1,1]])#\n",
    "m=[1,0,1]\n",
    "n=[1,1,1]\n",
    "o=[0,1,1]\n",
    "final=[]\n",
    "print(in_put)"
   ]
  },
  {
   "cell_type": "markdown",
   "metadata": {},
   "source": [
    "After the packets are made, we've generated the parity bits and added them to the recieved message\n",
    "|\n",
    "|\n",
    "|\n",
    "v"
   ]
  },
  {
   "cell_type": "code",
   "execution_count": 3,
   "metadata": {},
   "outputs": [
    {
     "name": "stdout",
     "output_type": "stream",
     "text": [
      "['000000', '110101', '100110', '110101', '110101', '001111', '010011', '010011', '100110', '110101', '111010', '100110', '111010', '000000', '110101', '101001', '000000', '100110', '010011', '111010', '100110', '001111', '101001', '011100', '111010', '010011', '001111', '111010', '111010', '100110', '110101', '101001', '000000', '010011', '110101', '101001', '011100', '101001', '000000', '010011', '100110', '001111', '101001', '100110', '110101', '100110', '011100', '100110', '101001', '010011', '110101', '100110', '111010', '011100', '000000', '100110', '011100', '001111', '011100', '101001', '011100', '100110', '111010', '010011', '001111', '111010', '101001', '011100', '111010', '011100', '000000', '101001', '001111', '010011', '011100', '011100', '110101', '010011', '011100', '110101', '101001', '100110', '110101', '101001', '100110', '101001', '001111', '011100', '100110', '111010', '111010', '001111', '001111', '001111', '111010', '101001', '010011', '111010', '010011', '011100', '110101', '011100', '000000', '110101', '011100', '111010', '010011', '000000', '010011', '111010', '111010', '001111', '110101', '001111', '010011', '011100', '110101', '011100', '000000', '011100', '101001', '110101', '011100', '101001', '100110', '101001', '111010']\n"
     ]
    }
   ],
   "source": [
    "for i in range(len(in_put)):\n",
    "    code=in_put[i]\n",
    "    ls=[]\n",
    "    for i in range(0,3):\n",
    "        #print(int(code[i])*m[i])\n",
    "        ls.append(int(code[i])*m[i])\n",
    "    for i in range(0,3):\n",
    "        #print(int(code[i])*n[i])\n",
    "        ls.append(int(code[i])*n[i])\n",
    "    for i in range(0,3):\n",
    "        #print(int(code[i])*m[i])\n",
    "        ls.append(int(code[i])*o[i])\n",
    "    #print(ls)\n",
    "    j=0\n",
    "    parity=[] \n",
    "    while(j<7 and len(parity)<3):\n",
    "        #print(ls[i]^ls[i+1]^ls[i+2])\n",
    "        parity.append(ls[j]^ls[j+1]^ls[j+2])\n",
    "        j=j+3 \n",
    "    for i in range(len(parity)):\n",
    "        parity[i]=str(parity[i])\n",
    "\n",
    "    parity=parity[0]+parity[1]+parity[2]\n",
    "    final.append(code+parity)\n",
    "print(final)"
   ]
  },
  {
   "cell_type": "code",
   "execution_count": 4,
   "metadata": {},
   "outputs": [],
   "source": [
    "decode=[]\n",
    "for c in final:\n",
    "    decode.append(c[0:3])"
   ]
  },
  {
   "cell_type": "markdown",
   "metadata": {},
   "source": [
    "And finally we decode the lbc coded msg to huffman encoded agian\n",
    "|\n",
    "|\n",
    "|\n",
    "v"
   ]
  },
  {
   "cell_type": "code",
   "execution_count": 5,
   "metadata": {},
   "outputs": [
    {
     "name": "stdout",
     "output_type": "stream",
     "text": [
      "000110100110110001010010100110111100111000110101000100010111100001101011111010001111111100110101000010110101011101000010100001101100110100011100101010110100111011000100011001011101011100111010001111101011111011000101001010011011110010011110101100110101100101001011100111111001001001111101010111010011110011000110011111010000010111111001110001010011110011000011101110011101100101111\n"
     ]
    }
   ],
   "source": [
    "ed=''.join(decode)\n",
    "print(ed)"
   ]
  },
  {
   "cell_type": "markdown",
   "metadata": {},
   "source": [
    "Decoding the Entire Text\n",
    "|\n",
    "|\n",
    "|\n",
    "v"
   ]
  },
  {
   "cell_type": "code",
   "execution_count": 6,
   "metadata": {},
   "outputs": [
    {
     "name": "stdout",
     "output_type": "stream",
     "text": [
      "A\n",
      "n\n",
      "e\n",
      "l\n",
      "e\n",
      "c\n",
      "t\n",
      "r\n",
      "i\n",
      "c\n",
      "m\n",
      "a\n",
      "t\n",
      "c\n",
      "h\n",
      "i\n",
      "s\n",
      "a\n",
      "d\n",
      "e\n",
      "v\n",
      "i\n",
      "c\n",
      "e\n",
      "t\n",
      "h\n",
      "a\n",
      "t\n",
      "u\n",
      "s\n",
      "e\n",
      "s\n",
      "a\n",
      "n\n",
      "e\n",
      "x\n",
      "t\n",
      "e\n",
      "r\n",
      "n\n",
      "a\n",
      "l\n",
      "l\n",
      "y\n",
      "a\n"
     ]
    }
   ],
   "source": [
    "i=0\n",
    "while(i<len(ed)):\n",
    "    for key,value in huffmanCode.items():\n",
    "        if ed.startswith(value):\n",
    "            print(key)\n",
    "            i=i+len('value')\n",
    "            ed=ed[ed.index(str(value))+len(str(value)): ]\n"
   ]
  },
  {
   "cell_type": "code",
   "execution_count": 60,
   "metadata": {},
   "outputs": [
    {
     "name": "stdout",
     "output_type": "stream",
     "text": [
      "11\n"
     ]
    }
   ],
   "source": []
  }
 ],
 "metadata": {
  "kernelspec": {
   "display_name": "Python 3",
   "language": "python",
   "name": "python3"
  },
  "language_info": {
   "codemirror_mode": {
    "name": "ipython",
    "version": 3
   },
   "file_extension": ".py",
   "mimetype": "text/x-python",
   "name": "python",
   "nbconvert_exporter": "python",
   "pygments_lexer": "ipython3",
   "version": "3.7.6"
  }
 },
 "nbformat": 4,
 "nbformat_minor": 4
}
